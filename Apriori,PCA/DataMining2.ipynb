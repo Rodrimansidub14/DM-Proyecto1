{
 "cells": [
  {
   "cell_type": "markdown",
   "id": "b0b9993a-6aae-4773-9812-2e670908eaf2",
   "metadata": {},
   "source": [
    "# Librerias Utilizadas"
   ]
  },
  {
   "cell_type": "code",
   "execution_count": 31,
   "id": "536960e8-199f-4857-9bd2-d18eefe845a9",
   "metadata": {},
   "outputs": [],
   "source": [
    "import pandas as pd\n",
    "from apyori import apriori\n",
    "from sklearn.compose import make_column_selector, ColumnTransformer\n",
    "from sklearn.preprocessing import OneHotEncoder, KBinsDiscretizer"
   ]
  },
  {
   "cell_type": "markdown",
   "id": "940c89a5-b130-461e-9aa6-0813ce8b559e",
   "metadata": {},
   "source": [
    "# Lectura del .csv"
   ]
  },
  {
   "cell_type": "code",
   "execution_count": 33,
   "id": "969e7d21-c868-4bb5-9f17-f52c842ea0dc",
   "metadata": {},
   "outputs": [],
   "source": [
    "df = pd.read_csv(\"movies_clean_scaled.csv\", encoding=\"ISO-8859-1\")"
   ]
  },
  {
   "cell_type": "markdown",
   "id": "488033eb-3d2f-47e2-be18-0854945f34cc",
   "metadata": {},
   "source": [
    "# Reglas de asociación"
   ]
  },
  {
   "cell_type": "code",
   "execution_count": 45,
   "id": "cad60fbf-554e-4f6b-8d7e-4494c302da33",
   "metadata": {},
   "outputs": [
    {
     "name": "stdout",
     "output_type": "stream",
     "text": [
      "                                               Regla   Soporte  Confianza  \\\n",
      "0  ['productionCompanyCountry_US'] → ['originalLa...  0.101629   0.991579   \n",
      "1  ['productionCompanyCountry_US|US'] → ['origina...  0.078433   1.000000   \n",
      "2  ['originalLanguage_en'] → ['productionCountry_...  0.495846   0.638511   \n",
      "3  ['productionCountry_United States of America']...  0.495846   0.998046   \n",
      "4  ['originalLanguage_ja'] → ['productionCountry_...  0.061064   0.944908   \n",
      "\n",
      "        Lift  \n",
      "0   1.276875  \n",
      "1   1.287719  \n",
      "2   1.285202  \n",
      "3   1.285202  \n",
      "4  15.338623  \n"
     ]
    }
   ],
   "source": [
    "df.fillna({\"productionCompanyCountry\": \"Desconocido\", \"productionCountry\": \"Desconocido\", \"originalLanguage\": \"Desconocido\"}, inplace=True)\n",
    "\n",
    "selector_num = make_column_selector(dtype_include=['int64', 'float64'])\n",
    "selector_cat = make_column_selector(dtype_include=['object'])\n",
    "\n",
    "variables_num = selector_num(df)\n",
    "variables_cat = selector_cat(df)\n",
    "\n",
    "preprocesador = ColumnTransformer(\n",
    "    transformers=[\n",
    "        (\"num\", KBinsDiscretizer(n_bins=5, encode=\"ordinal\", strategy=\"uniform\"), variables_num),\n",
    "        (\"cat\", OneHotEncoder(sparse_output=False, drop=\"first\"), variables_cat)\n",
    "    ]\n",
    ")\n",
    "\n",
    "datos_transformados = preprocesador.fit_transform(df)\n",
    "\n",
    "etiquetas_num_binarias = [f\"{variables_num[i]}_bin{j}\" for i in range(len(variables_num)) for j in range(5)]\n",
    "etiquetas_cat_codificadas = preprocesador.named_transformers_[\"cat\"].get_feature_names_out(variables_cat)\n",
    "\n",
    "todas_etiquetas = etiquetas_num_binarias[:datos_transformados.shape[1] - len(etiquetas_cat_codificadas)] + list(etiquetas_cat_codificadas)\n",
    "\n",
    "df_transformado = pd.DataFrame(datos_transformados, columns=todas_etiquetas)\n",
    "\n",
    "transacciones = df_transformado.apply(lambda row: row[row == 1].index.tolist(), axis=1).tolist()\n",
    "\n",
    "min_soporte = 0.05  \n",
    "min_confianza = 0.6  \n",
    "reglas = apriori(transacciones, min_support=min_soporte, min_confidence=min_confianza, min_lift=1.2, min_length=2)\n",
    "\n",
    "lista_reglas = list(reglas)\n",
    "reglas_asociacion = []\n",
    "\n",
    "for regla in lista_reglas:\n",
    "    for estadistica_ordenada in regla.ordered_statistics:\n",
    "        reglas_asociacion.append({\n",
    "            \"Regla\": f\"{list(estadistica_ordenada.items_base)} → {list(estadistica_ordenada.items_add)}\",\n",
    "            \"Soporte\": regla.support,\n",
    "            \"Confianza\": estadistica_ordenada.confidence,\n",
    "            \"Lift\": estadistica_ordenada.lift \n",
    "        })\n",
    "\n",
    "df_reglas = pd.DataFrame(reglas_asociacion)\n",
    "print(df_reglas.head())\n",
    "\n",
    "df_reglas.to_csv(\"reglas_asociacion.csv\", index=False)"
   ]
  },
  {
   "cell_type": "code",
   "execution_count": null,
   "id": "bc884954-6d44-42c7-ab7b-5735185a58ca",
   "metadata": {},
   "outputs": [],
   "source": []
  }
 ],
 "metadata": {
  "kernelspec": {
   "display_name": "Python [conda env:base] *",
   "language": "python",
   "name": "conda-base-py"
  },
  "language_info": {
   "codemirror_mode": {
    "name": "ipython",
    "version": 3
   },
   "file_extension": ".py",
   "mimetype": "text/x-python",
   "name": "python",
   "nbconvert_exporter": "python",
   "pygments_lexer": "ipython3",
   "version": "3.12.7"
  }
 },
 "nbformat": 4,
 "nbformat_minor": 5
}
